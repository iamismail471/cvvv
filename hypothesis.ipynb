{
  "nbformat": 4,
  "nbformat_minor": 0,
  "metadata": {
    "colab": {
      "name": "hypothesis",
      "provenance": [],
      "include_colab_link": true
    },
    "kernelspec": {
      "name": "python3",
      "display_name": "Python 3"
    },
    "language_info": {
      "name": "python"
    }
  },
  "cells": [
    {
      "cell_type": "markdown",
      "metadata": {
        "id": "view-in-github",
        "colab_type": "text"
      },
      "source": [
        "<a href=\"https://colab.research.google.com/github/iamismail471/cvvv/blob/master/hypothesis.ipynb\" target=\"_parent\"><img src=\"https://colab.research.google.com/assets/colab-badge.svg\" alt=\"Open In Colab\"/></a>"
      ]
    },
    {
      "cell_type": "code",
      "execution_count": null,
      "metadata": {
        "id": "GERF0fSgmQjS"
      },
      "outputs": [],
      "source": [
        ""
      ]
    },
    {
      "cell_type": "code",
      "source": [
        "d1 =[1,2,3,4,5,6,3,5,3]\n",
        "import numpy as np\n",
        "import statistics as s\n",
        "print(np.average(d1))\n",
        "print(np.var(d1))\n",
        "print(np.std(d1))\n",
        "print(np.mean(d1))\n",
        "print(np.median(d1))\n",
        "print(np.min(d1))\n",
        "print(np.max(d1))\n",
        "print(s.mode(d1))\n",
        "\n",
        "\n",
        "\n"
      ],
      "metadata": {
        "id": "vsZVJtXFGw7n",
        "colab": {
          "base_uri": "https://localhost:8080/"
        },
        "outputId": "af27baae-a8b6-42d2-e3ba-925291b586fe"
      },
      "execution_count": null,
      "outputs": [
        {
          "output_type": "stream",
          "name": "stdout",
          "text": [
            "3.5555555555555554\n",
            "2.2469135802469133\n",
            "1.4989708403591155\n",
            "3.5555555555555554\n",
            "3.0\n",
            "1\n",
            "6\n",
            "3\n"
          ]
        }
      ]
    },
    {
      "cell_type": "code",
      "source": [
        "d1 =[20,21,2,25,26,29,33,34,38]\n",
        "d2=[11,16,19,23,25,32,39,46,52]\n",
        "import numpy as np\n",
        "a=np.array(d1)\n",
        "b=np.array(d2)\n",
        "#print(a,b)\n",
        "c=np.array([d1,d2])\n",
        "r = np.ptp(a,axis=0)#Range\n",
        "print(r)\n",
        "print(c)\n",
        "print(np.median(c))\n",
        "print(np.average(c))\n",
        "print(np.mean(c))#arithmetic mean\n",
        "print(np.std(c))\n",
        "print(np.var(c))\n",
        "d3 =[20,21,2,25,26,29,33,34,38,np.nan]\n",
        "d4=[11,16,19,23,25,32,39,46,52,np.nan]\n",
        "d=np.array([d3,d4])\n",
        "print(np.nanmean(d))#Compute the arithmetic mean , ignoring NaNs.\n",
        "print(np.nanstd(d))#Compute the standard deviation,while ignoring NaNs\n",
        "print(np.nanvar(d))#Compute the variance,while ignoring NaNs.\n",
        "\n",
        "#IQR using Numpy\n",
        "Q1 = np.percentile(c, 25, interpolation = 'midpoint')  \n",
        "# Third quartile (Q3)\n",
        "Q3 = np.percentile(c, 75, interpolation = 'midpoint') \n",
        "# Interquaritle range (IQR)\n",
        "IQR = Q3 - Q1\n",
        "print(IQR)\n",
        "\n",
        "#IQR using Scipy\n",
        "# Import stats from scipy library\n",
        "from scipy import stats\n",
        "# Interquartile range (IQR)\n",
        "IQR = stats.iqr(c, interpolation = 'midpoint')\n",
        "print(IQR)\n",
        "\n",
        "\n",
        "#Z-score\n",
        "import numpy as np\n",
        "from scipy import stats\n",
        "  \n",
        "print (\"Z-score for array :\", stats.zscore(c, axis = 0))\n",
        "print (\"Z-score for array : \", stats.zscore(c, axis = 1))"
      ],
      "metadata": {
        "id": "7eWWyYa3Gxe9",
        "colab": {
          "base_uri": "https://localhost:8080/"
        },
        "outputId": "8b02eed0-6d4e-43de-80f6-c34b31837809"
      },
      "execution_count": null,
      "outputs": [
        {
          "output_type": "stream",
          "name": "stdout",
          "text": [
            "36\n",
            "[[20 21  2 25 26 29 33 34 38]\n",
            " [11 16 19 23 25 32 39 46 52]]\n",
            "25.5\n",
            "27.27777777777778\n",
            "27.27777777777778\n",
            "11.878110378879274\n",
            "141.08950617283952\n",
            "27.27777777777778\n",
            "11.878110378879272\n",
            "141.0895061728395\n",
            "13.0\n",
            "13.0\n",
            "Z-score for array : [[ 1.  1. -1.  1.  1. -1. -1. -1. -1.]\n",
            " [-1. -1.  1. -1. -1.  1.  1.  1.  1.]]\n",
            "Z-score for array :  [[-0.53333333 -0.43333333 -2.33333333 -0.03333333  0.06666667  0.36666667\n",
            "   0.76666667  0.86666667  1.26666667]\n",
            " [-1.37897923 -1.00060078 -0.77357371 -0.47087096 -0.31951958  0.21021025\n",
            "   0.73994007  1.2696699   1.72372403]]\n"
          ]
        }
      ]
    },
    {
      "cell_type": "code",
      "source": [
        "from numpy import random\n",
        "#Binomial distribution\n",
        "import matplotlib.pyplot as plt\n",
        "import seaborn as sns\n",
        "from scipy.stats import binom\n",
        "import numpy as np\n",
        "n=50#number of trials\n",
        "p=0.6#probability of success(tossing a coin)\n",
        "\n",
        "data_binom =binom.rvs(n,p,size=10000,random_state=50)\n",
        "#print(data_binom)\n",
        "#the random_state parameter is used for initializing the internal random number generator,\n",
        "#size decides the number of times to repeat the trials\n",
        "\n",
        "#numpy_binom=np.random.binomial(n,p,size=1000)\n",
        "#Probability of getting the number of heads (0, 1, 2, 3…50) while tossing a coin 50 times;\n",
        "#Here, the random variable X is the number of “successes” that is the number of times heads occurs. \n",
        "#The probability of getting a heads is 1/2. Binomial distribution could be represented as B(50,0.5). \n",
        "#The diagram below represents the binomial distribution for 1000 experiments.\n",
        "\n",
        "\n",
        "binom_pd = binom.pmf(data_binom, n, p)\n",
        "\n",
        "\n",
        "ax = sns.distplot(binom_pd,\n",
        "                  kde=False,\n",
        "                  color='skyblue',\n",
        "                  hist_kws={\"linewidth\": 15,'alpha':1})\n",
        "ax.set(xlabel='Binomial Distribution', ylabel='Frequency')\n",
        "\n",
        "fig, ax = plt.subplots(1, 1, figsize=(8, 6))\n",
        "ax.plot(data_binom, binom_pd, 'bo', ms=8, label='geom pmf')\n",
        "plt.ylabel(\"Probability\", fontsize=\"18\")\n",
        "plt.xlabel(\"X - No. of Successes\", fontsize=\"18\")\n",
        "plt.title(\"Binomial Distribution - No. of Successes Vs Probability\", fontsize=\"18\")\n",
        "ax.vlines(data_binom, 0, binom_pd, colors='b', lw=5, alpha=0.5)\n"
      ],
      "metadata": {
        "colab": {
          "base_uri": "https://localhost:8080/",
          "height": 750
        },
        "id": "X2G5GeGXcG3k",
        "outputId": "71911414-37de-443b-835d-6b78d21013be"
      },
      "execution_count": null,
      "outputs": [
        {
          "output_type": "stream",
          "name": "stderr",
          "text": [
            "/usr/local/lib/python3.7/dist-packages/seaborn/distributions.py:2619: FutureWarning: `distplot` is a deprecated function and will be removed in a future version. Please adapt your code to use either `displot` (a figure-level function with similar flexibility) or `histplot` (an axes-level function for histograms).\n",
            "  warnings.warn(msg, FutureWarning)\n"
          ]
        },
        {
          "output_type": "execute_result",
          "data": {
            "text/plain": [
              "<matplotlib.collections.LineCollection at 0x7f5ae6b4dc90>"
            ]
          },
          "metadata": {},
          "execution_count": 4
        },
        {
          "output_type": "display_data",
          "data": {
            "image/png": "[encoded data removed]",
            "text/plain": [
              "<Figure size 432x288 with 1 Axes>"
            ]
          },
          "metadata": {
            "needs_background": "light"
          }
        },
        {
          "output_type": "display_data",
          "data": {
            "image/png": "[encoded data removed]",
            "text/plain": [
              "<Figure size 576x432 with 1 Axes>"
            ]
          },
          "metadata": {
            "needs_background": "light"
          }
        }
      ]
    },
    {
      "cell_type": "code",
      "source": [
        "#Bernoulli\n",
        "from scipy.stats import bernoulli\n",
        "data_bern = bernoulli.rvs(size=5000,p=0.7,random_state=10)\n",
        "print(data_bern)\n",
        "x= sns.distplot(data_bern,\n",
        "                 kde=False,\n",
        "                 color=\"skyblue\",\n",
        "                 hist_kws={\"linewidth\": 15,'alpha':1})\n",
        "ax.set(xlabel='Bernoulli Distribution', ylabel='Frequency')"
      ],
      "metadata": {
        "colab": {
          "base_uri": "https://localhost:8080/",
          "height": 372
        },
        "id": "PaNte4q_qVaC",
        "outputId": "83b0d975-5568-4cf4-a56e-53dcba8106e0"
      },
      "execution_count": null,
      "outputs": [
        {
          "output_type": "stream",
          "name": "stdout",
          "text": [
            "[0 1 1 ... 1 0 1]\n"
          ]
        },
        {
          "output_type": "stream",
          "name": "stderr",
          "text": [
            "/usr/local/lib/python3.7/dist-packages/seaborn/distributions.py:2619: FutureWarning: `distplot` is a deprecated function and will be removed in a future version. Please adapt your code to use either `displot` (a figure-level function with similar flexibility) or `histplot` (an axes-level function for histograms).\n",
            "  warnings.warn(msg, FutureWarning)\n"
          ]
        },
        {
          "output_type": "execute_result",
          "data": {
            "text/plain": [
              "[Text(25.200000000000003, 0.5, 'Frequency'),\n",
              " Text(0.5, 25.200000000000003, 'Bernoulli Distribution')]"
            ]
          },
          "metadata": {},
          "execution_count": 12
        },
        {
          "output_type": "display_data",
          "data": {
            "image/png": "[encoded data removed]",
            "text/plain": [
              "<Figure size 432x288 with 1 Axes>"
            ]
          },
          "metadata": {
            "needs_background": "light"
          }
        }
      ]
    },
    {
      "cell_type": "code",
      "source": [
        "#geometric distribution\n",
        "from scipy.stats import geom\n",
        "import matplotlib.pyplot as plt\n",
        "#\n",
        "# X = Discrete random variable representing number of throws\n",
        "# p = Probability of the perfect throw\n",
        "#\n",
        "X = [1, 2, 3, 4, 5, 6, 7, 8, 9, 10]\n",
        "p = 0.6\n",
        "#\n",
        "# Calculate geometric probability distribution\n",
        "#\n",
        "geom_pd = geom.pmf(X, p)\n",
        "ax = sns.distplot(geom_pd,\n",
        "                  kde=True,\n",
        "                  color='skyblue',\n",
        "                  hist_kws={\"linewidth\": 10,'alpha':1})\n",
        "ax.set(xlabel='no.of throws', ylabel='probability')\n",
        "\n",
        "\n"
      ],
      "metadata": {
        "colab": {
          "base_uri": "https://localhost:8080/",
          "height": 351
        },
        "id": "z2mOyZJ7yief",
        "outputId": "4d711155-2361-451e-a23d-880138c8ed2e"
      },
      "execution_count": null,
      "outputs": [
        {
          "output_type": "stream",
          "name": "stderr",
          "text": [
            "/usr/local/lib/python3.7/dist-packages/seaborn/distributions.py:2619: FutureWarning: `distplot` is a deprecated function and will be removed in a future version. Please adapt your code to use either `displot` (a figure-level function with similar flexibility) or `histplot` (an axes-level function for histograms).\n",
            "  warnings.warn(msg, FutureWarning)\n"
          ]
        },
        {
          "output_type": "execute_result",
          "data": {
            "text/plain": [
              "[Text(0, 0.5, 'probability'), Text(0.5, 0, 'no.of throws')]"
            ]
          },
          "metadata": {},
          "execution_count": 14
        },
        {
          "output_type": "display_data",
          "data": {
            "image/png": "[encoded data removed]",
            "text/plain": [
              "<Figure size 432x288 with 1 Axes>"
            ]
          },
          "metadata": {
            "needs_background": "light"
          }
        }
      ]
    },
    {
      "cell_type": "code",
      "source": [
        "#Uniform or rectangular\n",
        "from scipy.stats import uniform\n",
        "# random numbers from uniform distribution\n",
        "#This distribution is constant between loc and loc + scale. \n",
        "#The size arguments describe the number of random variates.\n",
        "n = 100\n",
        "start = 1\n",
        "width = 5\n",
        "data_uniform = uniform.rvs(size=n, loc = start, scale=width)\n",
        "print(data_uniform)\n",
        "ax = sns.distplot(data_uniform,\n",
        "                  bins=100,\n",
        "                  kde=True,\n",
        "                  color='skyblue',\n",
        "                  hist_kws={\"linewidth\": 15,'alpha':1})\n",
        "ax.set(xlabel='Uniform Distribution ', ylabel='Frequency')"
      ],
      "metadata": {
        "colab": {
          "base_uri": "https://localhost:8080/",
          "height": 386
        },
        "id": "ccw0BIUt2Srg",
        "outputId": "5c3e4871-6351-4365-9e40-2b81e23c03d8"
      },
      "execution_count": null,
      "outputs": [
        {
          "output_type": "stream",
          "name": "stdout",
          "text": [
            "[2.96081211 3.46862609 5.71056373 4.03164577 2.35571394 5.74898452\n",
            " 1.56007271 4.08327728 2.73708855 1.47655019]\n"
          ]
        },
        {
          "output_type": "stream",
          "name": "stderr",
          "text": [
            "/usr/local/lib/python3.7/dist-packages/seaborn/distributions.py:2619: FutureWarning: `distplot` is a deprecated function and will be removed in a future version. Please adapt your code to use either `displot` (a figure-level function with similar flexibility) or `histplot` (an axes-level function for histograms).\n",
            "  warnings.warn(msg, FutureWarning)\n"
          ]
        },
        {
          "output_type": "execute_result",
          "data": {
            "text/plain": [
              "[Text(0, 0.5, 'Frequency'), Text(0.5, 0, 'Uniform Distribution ')]"
            ]
          },
          "metadata": {},
          "execution_count": 68
        },
        {
          "output_type": "display_data",
          "data": {
            "image/png": "[encoded data removed]",
            "text/plain": [
              "<Figure size 432x288 with 1 Axes>"
            ]
          },
          "metadata": {
            "needs_background": "light"
          }
        }
      ]
    },
    {
      "cell_type": "code",
      "source": [
        "#normaldistribution\n",
        "from scipy.stats import norm\n",
        "# generate random numbers from N(0,1)\n",
        "data_normal = norm.rvs(size=1000,loc=1,scale=3)\n",
        "#The loc argument corresponds to the mean of the distribution. \n",
        "#scale corresponds to standard deviation \n",
        "#size to the number of random variates.\n",
        "\n",
        "\n",
        "#menheight=[75,70,68,74,61,65]\n",
        "#print (norm.cdf(data_normal))\n",
        "ax = sns.distplot(data_normal,\n",
        "                  bins=100,\n",
        "                  kde=True,\n",
        "                  color='skyblue',\n",
        "                  hist_kws={\"linewidth\": 15,'alpha':1})\n",
        "ax.set(xlabel='Normal Distribution', ylabel='Frequency')"
      ],
      "metadata": {
        "colab": {
          "base_uri": "https://localhost:8080/",
          "height": 351
        },
        "id": "1wPS6KGi5Gs-",
        "outputId": "061c2f1e-0a29-4886-e87d-562d01f7b37a"
      },
      "execution_count": null,
      "outputs": [
        {
          "output_type": "stream",
          "name": "stderr",
          "text": [
            "/usr/local/lib/python3.7/dist-packages/seaborn/distributions.py:2619: FutureWarning: `distplot` is a deprecated function and will be removed in a future version. Please adapt your code to use either `displot` (a figure-level function with similar flexibility) or `histplot` (an axes-level function for histograms).\n",
            "  warnings.warn(msg, FutureWarning)\n"
          ]
        },
        {
          "output_type": "execute_result",
          "data": {
            "text/plain": [
              "[Text(0, 0.5, 'Frequency'), Text(0.5, 0, 'Normal Distribution')]"
            ]
          },
          "metadata": {},
          "execution_count": 21
        },
        {
          "output_type": "display_data",
          "data": {
            "image/png": "[encoded data removed]",
            "text/plain": [
              "<Figure size 432x288 with 1 Axes>"
            ]
          },
          "metadata": {
            "needs_background": "light"
          }
        }
      ]
    },
    {
      "cell_type": "code",
      "source": [
        "#exponential\n",
        "from scipy.stats import expon\n",
        "data_expon = expon.rvs(scale=1,loc=11,size=1000)\n",
        "#takes shape parameter scale as its argument\n",
        "# which is nothing but 1/lambda in the equation\n",
        "#To shift distribution use the loc argument, \n",
        "#size decides the number of random variates in the distribution\n",
        "ax = sns.distplot(data_expon,\n",
        "                  kde=True,\n",
        "                  bins=100,\n",
        "                  color='skyblue',\n",
        "                  hist_kws={\"linewidth\": 15,'alpha':1})\n",
        "ax.set(xlabel='Exponential Distribution', ylabel='Frequency')"
      ],
      "metadata": {
        "colab": {
          "base_uri": "https://localhost:8080/",
          "height": 351
        },
        "id": "085wKnid_C1e",
        "outputId": "12bc03ca-c9f6-4941-8ba7-c6c124a90259"
      },
      "execution_count": null,
      "outputs": [
        {
          "output_type": "stream",
          "name": "stderr",
          "text": [
            "/usr/local/lib/python3.7/dist-packages/seaborn/distributions.py:2619: FutureWarning: `distplot` is a deprecated function and will be removed in a future version. Please adapt your code to use either `displot` (a figure-level function with similar flexibility) or `histplot` (an axes-level function for histograms).\n",
            "  warnings.warn(msg, FutureWarning)\n"
          ]
        },
        {
          "output_type": "execute_result",
          "data": {
            "text/plain": [
              "[Text(0, 0.5, 'Frequency'), Text(0.5, 0, 'Exponential Distribution')]"
            ]
          },
          "metadata": {},
          "execution_count": 16
        },
        {
          "output_type": "display_data",
          "data": {
            "image/png": "[encoded data removed]",
            "text/plain": [
              "<Figure size 432x288 with 1 Axes>"
            ]
          },
          "metadata": {
            "needs_background": "light"
          }
        }
      ]
    },
    {
      "cell_type": "markdown",
      "source": [
        "Z-test\n",
        "\n",
        "statsmodels.stats.weightstats.ztest(x1, x2=None, value=0)\n",
        "\n",
        "x1: values for the first sample\n",
        "x2: values for the second sample (if performing a two sample z-test)\n",
        "\n",
        "value: mean under the null (in one sample case) or mean difference (in two sample case)\n",
        "\n",
        "Suppose the IQ in a certain population is normally distributed with a mean of μ = 100 \n",
        "and standard deviation of σ = 15.\n",
        "\n",
        "A researcher wants to know if a new drug affects IQ levels, so he recruits 20 patients to "
      ],
      "metadata": {
        "id": "KbdKyy__a_hO"
      }
    },
    {
      "cell_type": "code",
      "source": [
        "#Z-test\n",
        "from statsmodels.stats.weightstats import ztest as ztest\n",
        "\n",
        "#enter IQ levels for 20 patients\n",
        "data = [88, 92, 94, 94, 96, 97, 97, 97, 99, 99,\n",
        "        105, 109, 109, 109, 110, 112, 112, 113, 114, 115]\n",
        "\n",
        "#perform one sample z-test\n",
        "print(ztest(data, value=100))\n",
        "print(stats.ttest_1samp(a=data, popmean=100))\n",
        "#value is nothing but H0 or Null hypothesis(here we say that avg is 100)"
      ],
      "metadata": {
        "colab": {
          "base_uri": "https://localhost:8080/",
          "height": 391
        },
        "id": "qxlDltMtaRTE",
        "outputId": "eb5cd25a-1fab-470b-e5fc-c4aaca4d9085"
      },
      "execution_count": null,
      "outputs": [
        {
          "output_type": "error",
          "ename": "ImportError",
          "evalue": "ignored",
          "traceback": [
            "\u001b[0;31m---------------------------------------------------------------------------\u001b[0m",
            "\u001b[0;31mImportError\u001b[0m                               Traceback (most recent call last)",
            "\u001b[0;32m<ipython-input-15-189fb691adfb>\u001b[0m in \u001b[0;36m<module>\u001b[0;34m()\u001b[0m\n\u001b[1;32m      1\u001b[0m \u001b[0;31m#Z-test\u001b[0m\u001b[0;34m\u001b[0m\u001b[0;34m\u001b[0m\u001b[0;34m\u001b[0m\u001b[0m\n\u001b[1;32m      2\u001b[0m \u001b[0;32mfrom\u001b[0m \u001b[0mstatsmodels\u001b[0m\u001b[0;34m.\u001b[0m\u001b[0mstats\u001b[0m\u001b[0;34m.\u001b[0m\u001b[0mweightstats\u001b[0m \u001b[0;32mimport\u001b[0m \u001b[0mztest\u001b[0m \u001b[0;32mas\u001b[0m \u001b[0mztest\u001b[0m\u001b[0;34m\u001b[0m\u001b[0;34m\u001b[0m\u001b[0m\n\u001b[0;32m----> 3\u001b[0;31m \u001b[0;32mfrom\u001b[0m \u001b[0mstatsmodels\u001b[0m\u001b[0;34m.\u001b[0m\u001b[0mstats\u001b[0m\u001b[0;34m.\u001b[0m\u001b[0mweightstats\u001b[0m \u001b[0;32mimport\u001b[0m \u001b[0mttest\u001b[0m \u001b[0;32mas\u001b[0m \u001b[0mttest\u001b[0m\u001b[0;34m\u001b[0m\u001b[0;34m\u001b[0m\u001b[0m\n\u001b[0m\u001b[1;32m      4\u001b[0m \u001b[0;34m\u001b[0m\u001b[0m\n\u001b[1;32m      5\u001b[0m \u001b[0;31m#enter IQ levels for 20 patients\u001b[0m\u001b[0;34m\u001b[0m\u001b[0;34m\u001b[0m\u001b[0;34m\u001b[0m\u001b[0m\n",
            "\u001b[0;31mImportError\u001b[0m: cannot import name 'ttest' from 'statsmodels.stats.weightstats' (/usr/local/lib/python3.7/dist-packages/statsmodels/stats/weightstats.py)",
            "",
            "\u001b[0;31m---------------------------------------------------------------------------\u001b[0;32m\nNOTE: If your import is failing due to a missing package, you can\nmanually install dependencies using either !pip or !apt.\n\nTo view examples of installing some common dependencies, click the\n\"Open Examples\" button below.\n\u001b[0;31m---------------------------------------------------------------------------\u001b[0m\n"
          ],
          "errorDetails": {
            "actions": [
              {
                "action": "open_url",
                "actionText": "Open Examples",
                "url": "/notebooks/snippets/importing_libraries.ipynb"
              }
            ]
          }
        }
      ]
    },
    {
      "cell_type": "markdown",
      "source": [
        "Since this p-value is not less than .05, we do not have sufficient evidence to reject the null hypothesis. In other words, the new drug does not significantly affect IQ level.\n"
      ],
      "metadata": {
        "id": "_1ycr4usbg2r"
      }
    },
    {
      "cell_type": "markdown",
      "source": [
        "**Two Sample Z-Test in Python**\n",
        "Suppose the IQ levels among individuals in two different cities are known to be normally distributed with known standard deviations.\n",
        "\n",
        "A researcher wants to know if the mean IQ level between individuals in city A and city B are different, so she selects a simple random sample of  20 individuals from each city and records their IQ levels.\n",
        "\n",
        "The following code shows how to perform a two sample z-test in Python to determine if the mean IQ level is different between the two cities:"
      ],
      "metadata": {
        "id": "e-VsGG90cFwR"
      }
    },
    {
      "cell_type": "code",
      "source": [
        "from statsmodels.stats.weightstats import ztest as ztest\n",
        "\n",
        "\n",
        "#enter IQ levels for 20 individuals from each city\n",
        "cityA = [82, 84, 85, 89, 91, 91, 92, 94, 99, 99,\n",
        "         105, 109, 109, 109, 110, 112, 112, 113, 114, 114]\n",
        "\n",
        "cityB = [90, 91, 91, 91, 95, 95, 99, 99, 108, 109,\n",
        "         109, 114, 115, 116, 117, 117, 128, 129, 130, 133]\n",
        "\n",
        "#perform two sample z-test\n",
        "ztest(cityA, cityB, value=0) \n",
        "\n",
        "\n",
        "#here value of H0 is 0 because null hypothesis is that there is no difference in IQ of two cities"
      ],
      "metadata": {
        "colab": {
          "base_uri": "https://localhost:8080/"
        },
        "id": "Pmza-8RacIdf",
        "outputId": "77bf8c01-9490-4eb2-ad15-d4f6319440c9"
      },
      "execution_count": null,
      "outputs": [
        {
          "output_type": "execute_result",
          "data": {
            "text/plain": [
              "(-4.443573432270805, 8.847693942703524e-06)"
            ]
          },
          "metadata": {},
          "execution_count": 2
        }
      ]
    },
    {
      "cell_type": "markdown",
      "source": [
        "Since this p-value is less than .05, we have sufficient evidence to reject the null hypothesis. In other words, the mean IQ level is significantly different between the two cities"
      ],
      "metadata": {
        "id": "iQS8QDV0cRFm"
      }
    },
    {
      "cell_type": "markdown",
      "source": [
        "\n",
        "\n",
        "** One Sample t-Test** in Python\n",
        "Suppose a botanist wants to know if the mean height of a certain species of plant is equal to 15 inches. She collects a random sample of 12 plants and records each of their heights in inches.\n",
        "\n",
        "Use the following steps to conduct a one sample t-test to determine if the mean height for this species of plant is actually equal to 15 inches."
      ],
      "metadata": {
        "id": "XQeuWv0kcnnC"
      }
    },
    {
      "cell_type": "code",
      "source": [
        "data = [14, 14, 16, 13, 12, 17, 15, 14, 15, 13, 15, 14]\n",
        "\n",
        "#ttest_1samp(a, popmean)\n",
        "\n",
        "#where:\n",
        "\n",
        "#a: an array of sample observations\n",
        "#popmean: the expected population mean\n",
        "import scipy.stats as stats\n",
        "\n",
        "#perform one sample t-test\n",
        "stats.ttest_1samp(a=data, popmean=15)\n",
        "\n",
        "#H0 is that the avg height is 15 inches\n"
      ],
      "metadata": {
        "id": "JdtYRsdacuAE",
        "colab": {
          "base_uri": "https://localhost:8080/"
        },
        "outputId": "b5e98741-0fcd-4cde-a544-bb9cd29fb9c5"
      },
      "execution_count": null,
      "outputs": [
        {
          "output_type": "execute_result",
          "data": {
            "text/plain": [
              "Ttest_1sampResult(statistic=-1.6848470783484626, pvalue=0.12014460742498101)"
            ]
          },
          "metadata": {},
          "execution_count": 12
        }
      ]
    },
    {
      "cell_type": "markdown",
      "source": [
        "Because the p-value of our test (0.1201) is greater than alpha = 0.05, we fail to reject the null hypothesis of the test. We do not have sufficient evidence to say that the mean height for this particular species of plant is different from 15 inches"
      ],
      "metadata": {
        "id": "f-vqZbz8dNC9"
      }
    },
    {
      "cell_type": "markdown",
      "source": [
        "A two sample t-test is used to test whether or not the means of two populations are equal.\n",
        "\n",
        "\n",
        "\n",
        "Two Sample t-Test in Python\n",
        "Researchers want to know whether or not two different species of plants have the same mean height. To test this, they collect a simple random sample of 20 plants from each species.\n",
        "\n",
        "Use the following steps to conduct a two sample t-test to determine if the two species of plants have the same height.\n",
        "\n"
      ],
      "metadata": {
        "id": "4W4xlZJMdxNx"
      }
    },
    {
      "cell_type": "code",
      "source": [
        "import numpy as np\n",
        "\n",
        "group1 = np.array([14, 15, 15, 16, 13, 8, 14, 17, 16, 14, 19, 20, 21, 15, 15, 16, 16, 13, 14, 12])\n",
        "group2 = np.array([15, 17, 14, 17, 14, 8, 12, 19, 19, 14, 17, 22, 24, 16, 13, 16, 13, 18, 15, 13])\n",
        "\n",
        "#ttest_ind(a, b, equal_var=True)\n",
        "\n",
        "#a: an array of sample observations for group 1\n",
        "#b: an array of sample observations for group 2\n",
        "#equal_var: if True, perform a standard independent 2 sample t-test that assumes equal population variances. If False, perform Welch’s t-test, which does not assume equal population variances. This is True by default.\n",
        "#Before we perform the test, we need to decide if we’ll assume the two populations have equal variances or not. \n",
        "#As a rule of thumb, we can assume the populations have equal variances if the ratio of the larger sample variance to the smaller sample variance is less than 4:1. \n",
        "#find variance for each group\n",
        "print(np.var(group1), np.var(group2))\n",
        "\n",
        "#The ratio of the larger sample variance to the smaller sample variance is 12.26 / 7.73 = 1.586  i.e<4 so equal population variance\n",
        "import scipy.stats as stats\n",
        "\n",
        "#perform two sample t-test with equal variances\n",
        "stats.ttest_ind(a=group1, b=group2, equal_var=True)\n",
        "\n",
        "\n"
      ],
      "metadata": {
        "colab": {
          "base_uri": "https://localhost:8080/"
        },
        "id": "E6bn_rCbd0wd",
        "outputId": "102e90f9-f20f-4f2f-e096-a75b0e9023ba"
      },
      "execution_count": null,
      "outputs": [
        {
          "output_type": "stream",
          "name": "stdout",
          "text": [
            "7.727500000000001 12.260000000000002\n"
          ]
        },
        {
          "output_type": "execute_result",
          "data": {
            "text/plain": [
              "Ttest_indResult(statistic=-0.6337397070250238, pvalue=0.5300471010405257)"
            ]
          },
          "metadata": {},
          "execution_count": 3
        }
      ]
    },
    {
      "cell_type": "markdown",
      "source": [
        "The two hypotheses for this particular two sample t-test are as follows:\n",
        "\n",
        "H0: µ1 = µ2 (the two population means are equal)\n",
        "\n",
        "HA: µ1 ≠µ2 (the two population means are not equal)\n",
        "\n",
        "Because the p-value of our test (0.53005) is greater than alpha = 0.05, we fail to reject the null hypothesis of the test. We do not have sufficient evidence to say that the mean height of plants between the two populations is different"
      ],
      "metadata": {
        "id": "QVZdVJdie268"
      }
    },
    {
      "cell_type": "markdown",
      "source": [
        "A paired samples t-test is used to compare the means of two samples when each observation in one sample can be paired with an observation in the other sample.\n",
        "\n",
        " Paired Samples T-Test in Python\n",
        "Suppose we want to know whether a certain study program significantly impacts student performance on a particular exam. To test this, we have 15 students in a class take a pre-test. Then, we have each of the students participate in the study program for two weeks. Then, the students retake a test of similar difficulty.\n",
        "\n",
        "To compare the difference between the mean scores on the first and second test, we use a paired samples t-test because for each student their first test score can be paired with their second test score."
      ],
      "metadata": {
        "id": "0Io-NARAe_QI"
      }
    },
    {
      "cell_type": "code",
      "source": [
        "pre = [88, 82, 84, 93, 75, 78, 84, 87, 95, 91, 83, 89, 77, 68, 91]\n",
        "post = [91, 84, 88, 90, 79, 80, 88, 90, 90, 96, 88, 89, 81, 74, 92]\n",
        "\n",
        "#ttest_rel(a, b)\n",
        "\n",
        "#where:\n",
        "\n",
        "#a: an array of sample observations from group 1\n",
        "#b: an array of sample observations from group 2\n",
        "import scipy.stats as stats\n",
        "\n",
        "#perform the paired samples t-test\n",
        "stats.ttest_rel(pre, post)"
      ],
      "metadata": {
        "colab": {
          "base_uri": "https://localhost:8080/"
        },
        "id": "5JxMKlkNfBrT",
        "outputId": "9008c73f-e414-48f1-9860-d8e5e0b57e01"
      },
      "execution_count": null,
      "outputs": [
        {
          "output_type": "execute_result",
          "data": {
            "text/plain": [
              "Ttest_relResult(statistic=-2.9732484231168796, pvalue=0.01007144862643272)"
            ]
          },
          "metadata": {},
          "execution_count": 4
        }
      ]
    },
    {
      "cell_type": "markdown",
      "source": [
        "H0: The mean pre-test and post-test scores are equal\n",
        "\n",
        "HA:The mean pre-test and post-test scores are not equal\n",
        "\n",
        "Since the p-value (0.0101) is less than 0.05, we reject the null hypothesis. We have sufficient evidence to say that the true mean test score is different for students before and after participating in the study program."
      ],
      "metadata": {
        "id": "HwBd3-lBfUPC"
      }
    },
    {
      "cell_type": "code",
      "source": [
        ""
      ],
      "metadata": {
        "id": "dl2j-o8ujXe2"
      },
      "execution_count": null,
      "outputs": []
    },
    {
      "cell_type": "markdown",
      "source": [
        "Z-test categorical data\n"
      ],
      "metadata": {
        "id": "Zl7n8poJjZJx"
      }
    },
    {
      "cell_type": "code",
      "source": [
        "import pandas as pd\n",
        "df=pd.read_csv('https://raw.githubusercontent.com/nethajinirmal13/Training-datasets/main/cs1.csv')\n",
        "print(df.head(10))\n",
        "\n",
        "import numpy as np # linear algebra\n",
        "import pandas as pd # data processing, CSV file I/O (e.g. pd.read_csv)\n",
        "import seaborn as sns # data visualization\n",
        "import matplotlib.pyplot as plt # data visualization\n",
        "import scipy.stats as st\n",
        "\n",
        "#Checking Normality of Income Distribution \n",
        "sns.distplot(df['income'])\n",
        "plt.show()"
      ],
      "metadata": {
        "colab": {
          "base_uri": "https://localhost:8080/",
          "height": 570
        },
        "id": "vi2FHR9QjXad",
        "outputId": "e6415502-9f0d-440b-b1f5-17d65d6ce023"
      },
      "execution_count": null,
      "outputs": [
        {
          "output_type": "stream",
          "name": "stdout",
          "text": [
            "        id  age  gender      region  ...  save_act current_act  mortgage   pl\n",
            "0  ID12101   48  FEMALE  INNER_CITY  ...        NO          NO        NO  YES\n",
            "1  ID12102   40    MALE        TOWN  ...        NO         YES       YES   NO\n",
            "2  ID12103   51  FEMALE  INNER_CITY  ...       YES         YES        NO   NO\n",
            "3  ID12104   23  FEMALE        TOWN  ...        NO         YES        NO   NO\n",
            "4  ID12105   57  FEMALE       RURAL  ...       YES          NO        NO   NO\n",
            "5  ID12106   57  FEMALE        TOWN  ...       YES         YES        NO  YES\n",
            "6  ID12107   22    MALE       RURAL  ...        NO         YES        NO  YES\n",
            "7  ID12108   58    MALE        TOWN  ...       YES         YES        NO   NO\n",
            "8  ID12109   37  FEMALE    SUBURBAN  ...        NO          NO        NO   NO\n",
            "9  ID12110   54    MALE        TOWN  ...       YES         YES        NO   NO\n",
            "\n",
            "[10 rows x 12 columns]\n"
          ]
        },
        {
          "output_type": "stream",
          "name": "stderr",
          "text": [
            "/usr/local/lib/python3.7/dist-packages/seaborn/distributions.py:2619: FutureWarning: `distplot` is a deprecated function and will be removed in a future version. Please adapt your code to use either `displot` (a figure-level function with similar flexibility) or `histplot` (an axes-level function for histograms).\n",
            "  warnings.warn(msg, FutureWarning)\n"
          ]
        },
        {
          "output_type": "display_data",
          "data": {
            "image/png": "[encoded data removed]",
            "text/plain": [
              "<Figure size 432x288 with 1 Axes>"
            ]
          },
          "metadata": {
            "needs_background": "light"
          }
        }
      ]
    },
    {
      "cell_type": "code",
      "source": [
        "print(\"Sharpiro : \",st.shapiro(df.income))\n",
        "#Since p value is less than alpha (5%) the distibution does not follow normality.\n",
        "#p>0.05 the dataset is normal(cannot reject H0)\n",
        "#p<0.05 the dataset is not normal(can reject H0)"
      ],
      "metadata": {
        "colab": {
          "base_uri": "https://localhost:8080/"
        },
        "id": "XtbOu2E_kGn1",
        "outputId": "bcff1ff6-29cd-430f-cd0e-dd1fa3a21048"
      },
      "execution_count": null,
      "outputs": [
        {
          "output_type": "stream",
          "name": "stdout",
          "text": [
            "Sharpiro :  (0.9428609013557434, 5.541547221099563e-10)\n"
          ]
        }
      ]
    },
    {
      "cell_type": "code",
      "source": [
        "print(df.groupby('gender')['income'].mean())\n",
        "male = df[df['gender'] == 'MALE']['income']\n",
        "female = df[df['gender'] == 'FEMALE']['income']\n",
        "print(male)\n",
        "\n"
      ],
      "metadata": {
        "colab": {
          "base_uri": "https://localhost:8080/"
        },
        "id": "_nbOWFo-kmu_",
        "outputId": "d2f5cfa4-1c95-4584-cab4-92c10bba7904"
      },
      "execution_count": null,
      "outputs": [
        {
          "output_type": "stream",
          "name": "stdout",
          "text": [
            "gender\n",
            "FEMALE    27435.078875\n",
            "MALE      27082.060176\n",
            "Name: income, dtype: float64\n",
            "1      30085.10\n",
            "6       8877.07\n",
            "7      24946.60\n",
            "9      24212.10\n",
            "14     19474.60\n",
            "         ...   \n",
            "321    22882.90\n",
            "323    24027.60\n",
            "324    28495.10\n",
            "326    34852.30\n",
            "327    21268.40\n",
            "Name: income, Length: 170, dtype: float64\n"
          ]
        }
      ]
    },
    {
      "cell_type": "code",
      "source": [
        "#Stating of Hypothesis :\n",
        "#H0 : mu_male = mu_female\n",
        "#H1 : mu_male != mu_female\n",
        "import scipy.stats as st\n",
        "st.ttest_ind(male,female)"
      ],
      "metadata": {
        "colab": {
          "base_uri": "https://localhost:8080/"
        },
        "id": "WWa1x8RclCSw",
        "outputId": "17f64fac-395d-4aae-c742-0a7b1f3a8a53"
      },
      "execution_count": null,
      "outputs": [
        {
          "output_type": "execute_result",
          "data": {
            "text/plain": [
              "Ttest_indResult(statistic=-0.2449534813001663, pvalue=0.8066456277315542)"
            ]
          },
          "metadata": {},
          "execution_count": 3
        }
      ]
    },
    {
      "cell_type": "markdown",
      "source": [
        "Since, p value is greater than alpha(5%) accept H0.\n",
        "\n",
        "Conclusion : Both male and female income are same."
      ],
      "metadata": {
        "id": "TkHjfdYmlPkQ"
      }
    },
    {
      "cell_type": "code",
      "source": [
        "\n",
        "#Income VS PL :\n",
        "pl_yes = df[df['pl'] == 'YES']['income']\n",
        "pl_no = df[df['pl'] == 'NO']['income']\n",
        "df.groupby('pl')['income'].mean()\n",
        "print(pl_yes.head(5))\n",
        "print(pl_no.head())\n",
        "#Stating of Hypothesis :\n",
        "#H0 : mu_pl_yes = mu_pl_no\n",
        "#H1 : mu_pl_yes != mu_pl_no\n",
        "\n",
        "st.ttest_ind(pl_yes,pl_no)"
      ],
      "metadata": {
        "colab": {
          "base_uri": "https://localhost:8080/"
        },
        "id": "t8C3zTzFlf65",
        "outputId": "d327bc5f-452e-4e27-f40b-7c00487dd36b"
      },
      "execution_count": null,
      "outputs": [
        {
          "output_type": "stream",
          "name": "stdout",
          "text": [
            "0     17546.00\n",
            "5     37869.60\n",
            "6      8877.07\n",
            "12    15735.80\n",
            "13    55204.70\n",
            "Name: income, dtype: float64\n",
            "1    30085.1\n",
            "2    16575.4\n",
            "3    20375.4\n",
            "4    50576.3\n",
            "7    24946.6\n",
            "Name: income, dtype: float64\n"
          ]
        },
        {
          "output_type": "execute_result",
          "data": {
            "text/plain": [
              "Ttest_indResult(statistic=5.47425610162424, pvalue=8.746969284908934e-08)"
            ]
          },
          "metadata": {},
          "execution_count": 5
        }
      ]
    },
    {
      "cell_type": "markdown",
      "source": [
        "Conclusion : The income of people who have taken pl is not same as income od people who have not taken pl."
      ],
      "metadata": {
        "id": "FNf-HqTVltW3"
      }
    },
    {
      "cell_type": "markdown",
      "source": [
        "One way ANOVA\n",
        "Income VS Children :\n",
        "H0 : mu_0 = mu_1 = mu_2 = mu_3\n",
        "H1 : mu_0 != mu_1 != mu_2 != mu_3\n",
        "Assumptions : 1.Randomness 2.Normality 3.Variance equality\n",
        "Assumed randomness.\n",
        "Normality is already checked, assume for a while it follows normal.\n",
        "Variance equality (need to check)."
      ],
      "metadata": {
        "id": "GLs6nWAumZtQ"
      }
    },
    {
      "cell_type": "code",
      "source": [
        "\n",
        "print(df.children.unique())\n",
        "c0 = df[df['children'] == 0]['income']        # c0 = 0 children\n",
        "c1 = df[df['children'] == 1]['income']\n",
        "c2 = df[df['children'] == 2]['income']\n",
        "c3 = df[df['children'] == 3]['income']\n",
        "sns.boxplot(x='children',y=\"income\",data=df)\n",
        "plt.show()\n",
        "st.f_oneway(c0,c1,c2,c3)\n",
        "\n"
      ],
      "metadata": {
        "colab": {
          "base_uri": "https://localhost:8080/",
          "height": 314
        },
        "id": "qZVN1IpWmXQC",
        "outputId": "a2424e4c-7774-4990-c946-fbd00652abca"
      },
      "execution_count": null,
      "outputs": [
        {
          "output_type": "stream",
          "name": "stdout",
          "text": [
            "[1 3 0 2]\n"
          ]
        },
        {
          "output_type": "display_data",
          "data": {
            "image/png": "[encoded data removed]",
            "text/plain": [
              "<Figure size 432x288 with 1 Axes>"
            ]
          },
          "metadata": {
            "needs_background": "light"
          }
        },
        {
          "output_type": "execute_result",
          "data": {
            "text/plain": [
              "F_onewayResult(statistic=0.5667851690722862, pvalue=0.6372599526845)"
            ]
          },
          "metadata": {},
          "execution_count": 63
        }
      ]
    },
    {
      "cell_type": "markdown",
      "source": [
        "Conclusion : The income of people who have childrens are not different from people who are not having children."
      ],
      "metadata": {
        "id": "cq6R-qNGnK5X"
      }
    },
    {
      "cell_type": "markdown",
      "source": [
        "\n",
        "CHI SQUARED\n",
        "\n",
        "Categorical VS Categorical :\n",
        "\n",
        "PL VS Gender :\n",
        "\n",
        "H0 : There is no association between pl status and gender.\n",
        "\n",
        "H1 : There is an association between pl status and gender.\n",
        "\n",
        "Z-Proportion test:\n",
        "A z-test is a statistical test used to determine whether two population means are different when the variances are known and the sample size is large. The test statistic is assumed to have a normal distribution, and nuisance parameters such as standard deviation should be known in order for an accurate z-test to be performed.m\n"
      ],
      "metadata": {
        "id": "c9Vx21EMncmP"
      }
    },
    {
      "cell_type": "code",
      "source": [
        "from scipy.stats import chisquare\n",
        "chisquare([16, 18, 16, 14, 12, 12])\n"
      ],
      "metadata": {
        "colab": {
          "base_uri": "https://localhost:8080/"
        },
        "id": "ni9kVskd3XGL",
        "outputId": "9e250098-e023-4568-dc0b-dbef12b6563b"
      },
      "execution_count": null,
      "outputs": [
        {
          "output_type": "execute_result",
          "data": {
            "text/plain": [
              "Power_divergenceResult(statistic=2.0, pvalue=0.8491450360846096)"
            ]
          },
          "metadata": {},
          "execution_count": 46
        }
      ]
    },
    {
      "cell_type": "code",
      "source": [
        "obs = np.array([[16, 18, 16, 14, 12, 12], [32, 24, 16, 28, 20, 24]]).T\n",
        "print(obs.shape)\n",
        "chisquare(obs)"
      ],
      "metadata": {
        "colab": {
          "base_uri": "https://localhost:8080/"
        },
        "id": "6d7sOIK_3jKq",
        "outputId": "9f546338-1c4e-4885-bdfd-845cfe2ba92b"
      },
      "execution_count": null,
      "outputs": [
        {
          "output_type": "stream",
          "name": "stdout",
          "text": [
            "(6, 2)\n"
          ]
        },
        {
          "output_type": "execute_result",
          "data": {
            "text/plain": [
              "Power_divergenceResult(statistic=array([2.        , 6.66666667]), pvalue=array([0.84914504, 0.24663415]))"
            ]
          },
          "metadata": {},
          "execution_count": 47
        }
      ]
    },
    {
      "cell_type": "code",
      "source": [
        "chisquare(obs, axis=None)\n",
        "#By setting axis=None, the test is applied to all data in the array,\n",
        "#which is equivalent to applying the test to the flattened array.\n",
        "\n",
        "chisquare(obs.ravel())\n",
        "print(obs.ravel())"
      ],
      "metadata": {
        "colab": {
          "base_uri": "https://localhost:8080/"
        },
        "id": "ieum7qzT30ou",
        "outputId": "2e4be4e0-606a-4b7f-9610-de2d980d61c0"
      },
      "execution_count": null,
      "outputs": [
        {
          "output_type": "stream",
          "name": "stdout",
          "text": [
            "[16 32 18 24 16 16 14 28 12 20 12 24]\n"
          ]
        }
      ]
    },
    {
      "cell_type": "code",
      "source": [
        "\n",
        "from scipy.stats import chi2_contingency\n",
        "  \n",
        "# defining the table\n",
        "data = [[1, 2, 3], [1, 2, 3]]\n",
        "stat, p, dof, expected = chi2_contingency(data)\n",
        "print(stat, p, dof, expected) \n",
        "# interpret p-value\n",
        "alpha = 0.05\n",
        "print(\"p value is \" + str(p))\n",
        "if p <= alpha:\n",
        "    print('Dependent (reject H0)')\n",
        "else:\n",
        "    print('Independent (H0 holds true)')"
      ],
      "metadata": {
        "colab": {
          "base_uri": "https://localhost:8080/"
        },
        "id": "oDrOwsM_2pKX",
        "outputId": "fc9e3e7d-af4e-46ef-fc0d-0dce1ed5af77"
      },
      "execution_count": null,
      "outputs": [
        {
          "output_type": "stream",
          "name": "stdout",
          "text": [
            "0.0 1.0 2 [[1. 2. 3.]\n",
            " [1. 2. 3.]]\n",
            "p value is 1.0\n",
            "Independent (H0 holds true)\n"
          ]
        }
      ]
    },
    {
      "cell_type": "markdown",
      "source": [
        "#PL VS Save_act :\n",
        "H0 : There is no association between pl status and Save Account status.(independent)\n",
        "H1 : There is an association between pl status and Sacving Account status.(dependent)"
      ],
      "metadata": {
        "id": "OwgYR7hX5VQH"
      }
    },
    {
      "cell_type": "code",
      "source": [
        "tab = pd.crosstab(df['pl'],df['save_act'])\n",
        "tab = tab.T\n",
        "tab\n",
        "st.chi2_contingency(tab)\n"
      ],
      "metadata": {
        "colab": {
          "base_uri": "https://localhost:8080/"
        },
        "id": "2pyTf3R85StX",
        "outputId": "824f33ba-6598-424d-d4ca-79ad2a3974f8"
      },
      "execution_count": null,
      "outputs": [
        {
          "output_type": "stream",
          "name": "stdout",
          "text": [
            "save_act  NO  YES\n",
            "pl               \n",
            "NO        56  126\n",
            "YES       47  101\n"
          ]
        },
        {
          "output_type": "execute_result",
          "data": {
            "text/plain": [
              "(0.005345157445153201,\n",
              " 0.9417181196452988,\n",
              " 1,\n",
              " array([[ 56.80606061,  46.19393939],\n",
              "        [125.19393939, 101.80606061]]))"
            ]
          },
          "metadata": {},
          "execution_count": 54
        }
      ]
    },
    {
      "cell_type": "markdown",
      "source": [
        "Conclusion : There is no association(independent) between PL status and Saving Account status."
      ],
      "metadata": {
        "id": "O27S9ojQ5nHF"
      }
    },
    {
      "cell_type": "code",
      "source": [
        "from statsmodels.stats.proportion import proportions_ztest\n",
        "#From the people taken pl how many are male and female :\n",
        "#Compute a simple cross tabulation of two (or more) factors. By default computes a frequency table of the factors \n",
        "\n",
        "tab = pd.crosstab(df['pl'],df['region'])\n",
        "tab = tab.T\n",
        "print(tab)\n",
        "\n",
        "#print(proportions_ztest([86,62],[170,160]))\n",
        "\n",
        "#chi2_contingency function\n",
        "#Returns:\n",
        "\n",
        "'''chi2 : float\n",
        "The test statistic.\n",
        "\n",
        "p : float\n",
        "The p-value of the test\n",
        "\n",
        "dof : int\n",
        "Degrees of freedom'''\n",
        "\n",
        "st.chi2_contingency(tab)\n"
      ],
      "metadata": {
        "colab": {
          "base_uri": "https://localhost:8080/"
        },
        "id": "RE3h4HRlnbHg",
        "outputId": "fbd40272-ccd4-4766-b7ab-7bbec78c2408"
      },
      "execution_count": null,
      "outputs": [
        {
          "output_type": "stream",
          "name": "stdout",
          "text": [
            "pl          NO  YES\n",
            "region             \n",
            "INNER_CITY  85   70\n",
            "RURAL       26   28\n",
            "SUBURBAN    14   11\n",
            "TOWN        57   39\n"
          ]
        },
        {
          "output_type": "execute_result",
          "data": {
            "text/plain": [
              "(1.776514811293037, 0.6200588623676881, 3, array([[85.48484848, 69.51515152],\n",
              "        [29.78181818, 24.21818182],\n",
              "        [13.78787879, 11.21212121],\n",
              "        [52.94545455, 43.05454545]]))"
            ]
          },
          "metadata": {},
          "execution_count": 55
        }
      ]
    },
    {
      "cell_type": "markdown",
      "source": [
        "Conclusion : There is an association between PL status and Gender."
      ],
      "metadata": {
        "id": "lagZm2J9n0l_"
      }
    },
    {
      "cell_type": "code",
      "source": [
        "import pandas as pd\n",
        "import numpy as np\n",
        "df = pd.read_csv('https://raw.githubusercontent.com/nethajinirmal13/Training-datasets/main/titanic_train.csv')\n",
        "df.sample(5)"
      ],
      "metadata": {
        "colab": {
          "base_uri": "https://localhost:8080/",
          "height": 389
        },
        "id": "zUGKymoN8vG3",
        "outputId": "4bbea6da-be42-4b5c-ef75-93da0702d7af"
      },
      "execution_count": null,
      "outputs": [
        {
          "output_type": "execute_result",
          "data": {
            "text/html": [
              "\n",
              "  <div id=\"df-5531a9ba-0754-480c-8c2f-6c67607072ae\">\n",
              "    <div class=\"colab-df-container\">\n",
              "      <div>\n",
              "<style scoped>\n",
              "    .dataframe tbody tr th:only-of-type {\n",
              "        vertical-align: middle;\n",
              "    }\n",
              "\n",
              "    .dataframe tbody tr th {\n",
              "        vertical-align: top;\n",
              "    }\n",
              "\n",
              "    .dataframe thead th {\n",
              "        text-align: right;\n",
              "    }\n",
              "</style>\n",
              "<table border=\"1\" class=\"dataframe\">\n",
              "  <thead>\n",
              "    <tr style=\"text-align: right;\">\n",
              "      <th></th>\n",
              "      <th>PassengerId</th>\n",
              "      <th>Survived</th>\n",
              "      <th>Pclass</th>\n",
              "      <th>Name</th>\n",
              "      <th>Sex</th>\n",
              "      <th>Age</th>\n",
              "      <th>SibSp</th>\n",
              "      <th>Parch</th>\n",
              "      <th>Ticket</th>\n",
              "      <th>Fare</th>\n",
              "      <th>Cabin</th>\n",
              "      <th>Embarked</th>\n",
              "    </tr>\n",
              "  </thead>\n",
              "  <tbody>\n",
              "    <tr>\n",
              "      <th>410</th>\n",
              "      <td>411</td>\n",
              "      <td>0</td>\n",
              "      <td>3</td>\n",
              "      <td>Sdycoff, Mr. Todor</td>\n",
              "      <td>male</td>\n",
              "      <td>NaN</td>\n",
              "      <td>0</td>\n",
              "      <td>0</td>\n",
              "      <td>349222</td>\n",
              "      <td>7.8958</td>\n",
              "      <td>NaN</td>\n",
              "      <td>S</td>\n",
              "    </tr>\n",
              "    <tr>\n",
              "      <th>304</th>\n",
              "      <td>305</td>\n",
              "      <td>0</td>\n",
              "      <td>3</td>\n",
              "      <td>Williams, Mr. Howard Hugh \"Harry\"</td>\n",
              "      <td>male</td>\n",
              "      <td>NaN</td>\n",
              "      <td>0</td>\n",
              "      <td>0</td>\n",
              "      <td>A/5 2466</td>\n",
              "      <td>8.0500</td>\n",
              "      <td>NaN</td>\n",
              "      <td>S</td>\n",
              "    </tr>\n",
              "    <tr>\n",
              "      <th>267</th>\n",
              "      <td>268</td>\n",
              "      <td>1</td>\n",
              "      <td>3</td>\n",
              "      <td>Persson, Mr. Ernst Ulrik</td>\n",
              "      <td>male</td>\n",
              "      <td>25.0</td>\n",
              "      <td>1</td>\n",
              "      <td>0</td>\n",
              "      <td>347083</td>\n",
              "      <td>7.7750</td>\n",
              "      <td>NaN</td>\n",
              "      <td>S</td>\n",
              "    </tr>\n",
              "    <tr>\n",
              "      <th>43</th>\n",
              "      <td>44</td>\n",
              "      <td>1</td>\n",
              "      <td>2</td>\n",
              "      <td>Laroche, Miss. Simonne Marie Anne Andree</td>\n",
              "      <td>female</td>\n",
              "      <td>3.0</td>\n",
              "      <td>1</td>\n",
              "      <td>2</td>\n",
              "      <td>SC/Paris 2123</td>\n",
              "      <td>41.5792</td>\n",
              "      <td>NaN</td>\n",
              "      <td>C</td>\n",
              "    </tr>\n",
              "    <tr>\n",
              "      <th>131</th>\n",
              "      <td>132</td>\n",
              "      <td>0</td>\n",
              "      <td>3</td>\n",
              "      <td>Coelho, Mr. Domingos Fernandeo</td>\n",
              "      <td>male</td>\n",
              "      <td>20.0</td>\n",
              "      <td>0</td>\n",
              "      <td>0</td>\n",
              "      <td>SOTON/O.Q. 3101307</td>\n",
              "      <td>7.0500</td>\n",
              "      <td>NaN</td>\n",
              "      <td>S</td>\n",
              "    </tr>\n",
              "  </tbody>\n",
              "</table>\n",
              "</div>\n",
              "      <button class=\"colab-df-convert\" onclick=\"convertToInteractive('df-5531a9ba-0754-480c-8c2f-6c67607072ae')\"\n",
              "              title=\"Convert this dataframe to an interactive table.\"\n",
              "              style=\"display:none;\">\n",
              "        \n",
              "  <svg xmlns=\"http://www.w3.org/2000/svg\" height=\"24px\"viewBox=\"0 0 24 24\"\n",
              "       width=\"24px\">\n",
              "    <path d=\"M0 0h24v24H0V0z\" fill=\"none\"/>\n",
              "    <path d=\"M18.56 5.44l.94 2.06.94-2.06 2.06-.94-2.06-.94-.94-2.06-.94 2.06-2.06.94zm-11 1L8.5 8.5l.94-2.06 2.06-.94-2.06-.94L8.5 2.5l-.94 2.06-2.06.94zm10 10l.94 2.06.94-2.06 2.06-.94-2.06-.94-.94-2.06-.94 2.06-2.06.94z\"/><path d=\"M17.41 7.96l-1.37-1.37c-.4-.4-.92-.59-1.43-.59-.52 0-1.04.2-1.43.59L10.3 9.45l-7.72 7.72c-.78.78-.78 2.05 0 2.83L4 21.41c.39.39.9.59 1.41.59.51 0 1.02-.2 1.41-.59l7.78-7.78 2.81-2.81c.8-.78.8-2.07 0-2.86zM5.41 20L4 18.59l7.72-7.72 1.47 1.35L5.41 20z\"/>\n",
              "  </svg>\n",
              "      </button>\n",
              "      \n",
              "  <style>\n",
              "    .colab-df-container {\n",
              "      display:flex;\n",
              "      flex-wrap:wrap;\n",
              "      gap: 12px;\n",
              "    }\n",
              "\n",
              "    .colab-df-convert {\n",
              "      background-color: #E8F0FE;\n",
              "      border: none;\n",
              "      border-radius: 50%;\n",
              "      cursor: pointer;\n",
              "      display: none;\n",
              "      fill: #1967D2;\n",
              "      height: 32px;\n",
              "      padding: 0 0 0 0;\n",
              "      width: 32px;\n",
              "    }\n",
              "\n",
              "    .colab-df-convert:hover {\n",
              "      background-color: #E2EBFA;\n",
              "      box-shadow: 0px 1px 2px rgba(60, 64, 67, 0.3), 0px 1px 3px 1px rgba(60, 64, 67, 0.15);\n",
              "      fill: #174EA6;\n",
              "    }\n",
              "\n",
              "    [theme=dark] .colab-df-convert {\n",
              "      background-color: #3B4455;\n",
              "      fill: #D2E3FC;\n",
              "    }\n",
              "\n",
              "    [theme=dark] .colab-df-convert:hover {\n",
              "      background-color: #434B5C;\n",
              "      box-shadow: 0px 1px 3px 1px rgba(0, 0, 0, 0.15);\n",
              "      filter: drop-shadow(0px 1px 2px rgba(0, 0, 0, 0.3));\n",
              "      fill: #FFFFFF;\n",
              "    }\n",
              "  </style>\n",
              "\n",
              "      <script>\n",
              "        const buttonEl =\n",
              "          document.querySelector('#df-5531a9ba-0754-480c-8c2f-6c67607072ae button.colab-df-convert');\n",
              "        buttonEl.style.display =\n",
              "          google.colab.kernel.accessAllowed ? 'block' : 'none';\n",
              "\n",
              "        async function convertToInteractive(key) {\n",
              "          const element = document.querySelector('#df-5531a9ba-0754-480c-8c2f-6c67607072ae');\n",
              "          const dataTable =\n",
              "            await google.colab.kernel.invokeFunction('convertToInteractive',\n",
              "                                                     [key], {});\n",
              "          if (!dataTable) return;\n",
              "\n",
              "          const docLinkHtml = 'Like what you see? Visit the ' +\n",
              "            '<a target=\"_blank\" href=https://colab.research.google.com/notebooks/data_table.ipynb>data table notebook</a>'\n",
              "            + ' to learn more about interactive tables.';\n",
              "          element.innerHTML = '';\n",
              "          dataTable['output_type'] = 'display_data';\n",
              "          await google.colab.output.renderOutput(dataTable, element);\n",
              "          const docLink = document.createElement('div');\n",
              "          docLink.innerHTML = docLinkHtml;\n",
              "          element.appendChild(docLink);\n",
              "        }\n",
              "      </script>\n",
              "    </div>\n",
              "  </div>\n",
              "  "
            ],
            "text/plain": [
              "     PassengerId  Survived  Pclass  ...     Fare Cabin  Embarked\n",
              "410          411         0       3  ...   7.8958   NaN         S\n",
              "304          305         0       3  ...   8.0500   NaN         S\n",
              "267          268         1       3  ...   7.7750   NaN         S\n",
              "43            44         1       2  ...  41.5792   NaN         C\n",
              "131          132         0       3  ...   7.0500   NaN         S\n",
              "\n",
              "[5 rows x 12 columns]"
            ]
          },
          "metadata": {},
          "execution_count": 64
        }
      ]
    },
    {
      "cell_type": "code",
      "source": [
        "#data cleansing\n",
        "df.drop(columns=['PassengerId','Name', 'Ticket','Fare','Cabin'], \n",
        "        inplace=True)\n",
        "df.dropna(inplace=True)\n",
        "df"
      ],
      "metadata": {
        "colab": {
          "base_uri": "https://localhost:8080/",
          "height": 423
        },
        "id": "D3LgswMe86yp",
        "outputId": "6262602c-f519-427b-c285-e09733d48827"
      },
      "execution_count": null,
      "outputs": [
        {
          "output_type": "execute_result",
          "data": {
            "text/html": [
              "\n",
              "  <div id=\"df-936e268f-ed23-4fa1-9aaf-7be005fd05a5\">\n",
              "    <div class=\"colab-df-container\">\n",
              "      <div>\n",
              "<style scoped>\n",
              "    .dataframe tbody tr th:only-of-type {\n",
              "        vertical-align: middle;\n",
              "    }\n",
              "\n",
              "    .dataframe tbody tr th {\n",
              "        vertical-align: top;\n",
              "    }\n",
              "\n",
              "    .dataframe thead th {\n",
              "        text-align: right;\n",
              "    }\n",
              "</style>\n",
              "<table border=\"1\" class=\"dataframe\">\n",
              "  <thead>\n",
              "    <tr style=\"text-align: right;\">\n",
              "      <th></th>\n",
              "      <th>Survived</th>\n",
              "      <th>Pclass</th>\n",
              "      <th>Sex</th>\n",
              "      <th>Age</th>\n",
              "      <th>SibSp</th>\n",
              "      <th>Parch</th>\n",
              "      <th>Embarked</th>\n",
              "    </tr>\n",
              "  </thead>\n",
              "  <tbody>\n",
              "    <tr>\n",
              "      <th>0</th>\n",
              "      <td>0</td>\n",
              "      <td>3</td>\n",
              "      <td>male</td>\n",
              "      <td>22.0</td>\n",
              "      <td>1</td>\n",
              "      <td>0</td>\n",
              "      <td>S</td>\n",
              "    </tr>\n",
              "    <tr>\n",
              "      <th>1</th>\n",
              "      <td>1</td>\n",
              "      <td>1</td>\n",
              "      <td>female</td>\n",
              "      <td>38.0</td>\n",
              "      <td>1</td>\n",
              "      <td>0</td>\n",
              "      <td>C</td>\n",
              "    </tr>\n",
              "    <tr>\n",
              "      <th>2</th>\n",
              "      <td>1</td>\n",
              "      <td>3</td>\n",
              "      <td>female</td>\n",
              "      <td>26.0</td>\n",
              "      <td>0</td>\n",
              "      <td>0</td>\n",
              "      <td>S</td>\n",
              "    </tr>\n",
              "    <tr>\n",
              "      <th>3</th>\n",
              "      <td>1</td>\n",
              "      <td>1</td>\n",
              "      <td>female</td>\n",
              "      <td>35.0</td>\n",
              "      <td>1</td>\n",
              "      <td>0</td>\n",
              "      <td>S</td>\n",
              "    </tr>\n",
              "    <tr>\n",
              "      <th>4</th>\n",
              "      <td>0</td>\n",
              "      <td>3</td>\n",
              "      <td>male</td>\n",
              "      <td>35.0</td>\n",
              "      <td>0</td>\n",
              "      <td>0</td>\n",
              "      <td>S</td>\n",
              "    </tr>\n",
              "    <tr>\n",
              "      <th>...</th>\n",
              "      <td>...</td>\n",
              "      <td>...</td>\n",
              "      <td>...</td>\n",
              "      <td>...</td>\n",
              "      <td>...</td>\n",
              "      <td>...</td>\n",
              "      <td>...</td>\n",
              "    </tr>\n",
              "    <tr>\n",
              "      <th>885</th>\n",
              "      <td>0</td>\n",
              "      <td>3</td>\n",
              "      <td>female</td>\n",
              "      <td>39.0</td>\n",
              "      <td>0</td>\n",
              "      <td>5</td>\n",
              "      <td>Q</td>\n",
              "    </tr>\n",
              "    <tr>\n",
              "      <th>886</th>\n",
              "      <td>0</td>\n",
              "      <td>2</td>\n",
              "      <td>male</td>\n",
              "      <td>27.0</td>\n",
              "      <td>0</td>\n",
              "      <td>0</td>\n",
              "      <td>S</td>\n",
              "    </tr>\n",
              "    <tr>\n",
              "      <th>887</th>\n",
              "      <td>1</td>\n",
              "      <td>1</td>\n",
              "      <td>female</td>\n",
              "      <td>19.0</td>\n",
              "      <td>0</td>\n",
              "      <td>0</td>\n",
              "      <td>S</td>\n",
              "    </tr>\n",
              "    <tr>\n",
              "      <th>889</th>\n",
              "      <td>1</td>\n",
              "      <td>1</td>\n",
              "      <td>male</td>\n",
              "      <td>26.0</td>\n",
              "      <td>0</td>\n",
              "      <td>0</td>\n",
              "      <td>C</td>\n",
              "    </tr>\n",
              "    <tr>\n",
              "      <th>890</th>\n",
              "      <td>0</td>\n",
              "      <td>3</td>\n",
              "      <td>male</td>\n",
              "      <td>32.0</td>\n",
              "      <td>0</td>\n",
              "      <td>0</td>\n",
              "      <td>Q</td>\n",
              "    </tr>\n",
              "  </tbody>\n",
              "</table>\n",
              "<p>712 rows × 7 columns</p>\n",
              "</div>\n",
              "      <button class=\"colab-df-convert\" onclick=\"convertToInteractive('df-936e268f-ed23-4fa1-9aaf-7be005fd05a5')\"\n",
              "              title=\"Convert this dataframe to an interactive table.\"\n",
              "              style=\"display:none;\">\n",
              "        \n",
              "  <svg xmlns=\"http://www.w3.org/2000/svg\" height=\"24px\"viewBox=\"0 0 24 24\"\n",
              "       width=\"24px\">\n",
              "    <path d=\"M0 0h24v24H0V0z\" fill=\"none\"/>\n",
              "    <path d=\"M18.56 5.44l.94 2.06.94-2.06 2.06-.94-2.06-.94-.94-2.06-.94 2.06-2.06.94zm-11 1L8.5 8.5l.94-2.06 2.06-.94-2.06-.94L8.5 2.5l-.94 2.06-2.06.94zm10 10l.94 2.06.94-2.06 2.06-.94-2.06-.94-.94-2.06-.94 2.06-2.06.94z\"/><path d=\"M17.41 7.96l-1.37-1.37c-.4-.4-.92-.59-1.43-.59-.52 0-1.04.2-1.43.59L10.3 9.45l-7.72 7.72c-.78.78-.78 2.05 0 2.83L4 21.41c.39.39.9.59 1.41.59.51 0 1.02-.2 1.41-.59l7.78-7.78 2.81-2.81c.8-.78.8-2.07 0-2.86zM5.41 20L4 18.59l7.72-7.72 1.47 1.35L5.41 20z\"/>\n",
              "  </svg>\n",
              "      </button>\n",
              "      \n",
              "  <style>\n",
              "    .colab-df-container {\n",
              "      display:flex;\n",
              "      flex-wrap:wrap;\n",
              "      gap: 12px;\n",
              "    }\n",
              "\n",
              "    .colab-df-convert {\n",
              "      background-color: #E8F0FE;\n",
              "      border: none;\n",
              "      border-radius: 50%;\n",
              "      cursor: pointer;\n",
              "      display: none;\n",
              "      fill: #1967D2;\n",
              "      height: 32px;\n",
              "      padding: 0 0 0 0;\n",
              "      width: 32px;\n",
              "    }\n",
              "\n",
              "    .colab-df-convert:hover {\n",
              "      background-color: #E2EBFA;\n",
              "      box-shadow: 0px 1px 2px rgba(60, 64, 67, 0.3), 0px 1px 3px 1px rgba(60, 64, 67, 0.15);\n",
              "      fill: #174EA6;\n",
              "    }\n",
              "\n",
              "    [theme=dark] .colab-df-convert {\n",
              "      background-color: #3B4455;\n",
              "      fill: #D2E3FC;\n",
              "    }\n",
              "\n",
              "    [theme=dark] .colab-df-convert:hover {\n",
              "      background-color: #434B5C;\n",
              "      box-shadow: 0px 1px 3px 1px rgba(0, 0, 0, 0.15);\n",
              "      filter: drop-shadow(0px 1px 2px rgba(0, 0, 0, 0.3));\n",
              "      fill: #FFFFFF;\n",
              "    }\n",
              "  </style>\n",
              "\n",
              "      <script>\n",
              "        const buttonEl =\n",
              "          document.querySelector('#df-936e268f-ed23-4fa1-9aaf-7be005fd05a5 button.colab-df-convert');\n",
              "        buttonEl.style.display =\n",
              "          google.colab.kernel.accessAllowed ? 'block' : 'none';\n",
              "\n",
              "        async function convertToInteractive(key) {\n",
              "          const element = document.querySelector('#df-936e268f-ed23-4fa1-9aaf-7be005fd05a5');\n",
              "          const dataTable =\n",
              "            await google.colab.kernel.invokeFunction('convertToInteractive',\n",
              "                                                     [key], {});\n",
              "          if (!dataTable) return;\n",
              "\n",
              "          const docLinkHtml = 'Like what you see? Visit the ' +\n",
              "            '<a target=\"_blank\" href=https://colab.research.google.com/notebooks/data_table.ipynb>data table notebook</a>'\n",
              "            + ' to learn more about interactive tables.';\n",
              "          element.innerHTML = '';\n",
              "          dataTable['output_type'] = 'display_data';\n",
              "          await google.colab.output.renderOutput(dataTable, element);\n",
              "          const docLink = document.createElement('div');\n",
              "          docLink.innerHTML = docLinkHtml;\n",
              "          element.appendChild(docLink);\n",
              "        }\n",
              "      </script>\n",
              "    </div>\n",
              "  </div>\n",
              "  "
            ],
            "text/plain": [
              "     Survived  Pclass     Sex   Age  SibSp  Parch Embarked\n",
              "0           0       3    male  22.0      1      0        S\n",
              "1           1       1  female  38.0      1      0        C\n",
              "2           1       3  female  26.0      0      0        S\n",
              "3           1       1  female  35.0      1      0        S\n",
              "4           0       3    male  35.0      0      0        S\n",
              "..        ...     ...     ...   ...    ...    ...      ...\n",
              "885         0       3  female  39.0      0      5        Q\n",
              "886         0       2    male  27.0      0      0        S\n",
              "887         1       1  female  19.0      0      0        S\n",
              "889         1       1    male  26.0      0      0        C\n",
              "890         0       3    male  32.0      0      0        Q\n",
              "\n",
              "[712 rows x 7 columns]"
            ]
          },
          "metadata": {},
          "execution_count": 65
        }
      ]
    },
    {
      "cell_type": "code",
      "source": [
        "import seaborn as sns\n",
        "sns.barplot(x='Sex', y='Survived', data=df, ci=None)"
      ],
      "metadata": {
        "colab": {
          "base_uri": "https://localhost:8080/",
          "height": 296
        },
        "id": "-MKd59lQ9F4_",
        "outputId": "aad6e783-ade6-46c5-98e1-95432e6872f2"
      },
      "execution_count": null,
      "outputs": [
        {
          "output_type": "execute_result",
          "data": {
            "text/plain": [
              "<matplotlib.axes._subplots.AxesSubplot at 0x7fdd9b4972d0>"
            ]
          },
          "metadata": {},
          "execution_count": 66
        },
        {
          "output_type": "display_data",
          "data": {
            "image/png": "[encoded data removed]",
            "text/plain": [
              "<Figure size 432x288 with 1 Axes>"
            ]
          },
          "metadata": {
            "needs_background": "light"
          }
        }
      ]
    },
    {
      "cell_type": "markdown",
      "source": [
        "From the above figure, you can see that of all the female passengers, more than 70% survived; of all the men, about 20% survived. Seems like there exists a very strong relationship between the Sex and Survived features. To confirm this, we will use the chi-square test to confirm this.\n"
      ],
      "metadata": {
        "id": "sQJ0cZpD-7Sj"
      }
    },
    {
      "cell_type": "code",
      "source": [
        "\n",
        "tab = pd.crosstab(df['Sex'],df['Survived'])\n",
        "tab = tab.T\n",
        "print(tab)\n",
        "st.chi2_contingency(tab)\n"
      ],
      "metadata": {
        "colab": {
          "base_uri": "https://localhost:8080/"
        },
        "id": "kj1K2gwO9m-p",
        "outputId": "47fd2b1c-7180-4fd8-df92-310163151837"
      },
      "execution_count": null,
      "outputs": [
        {
          "output_type": "stream",
          "name": "stdout",
          "text": [
            "Sex       female  male\n",
            "Survived              \n",
            "0             64   360\n",
            "1            195    93\n"
          ]
        },
        {
          "output_type": "execute_result",
          "data": {
            "text/plain": [
              "(202.86944877617123,\n",
              " 4.939416685451492e-46,\n",
              " 1,\n",
              " array([[154.23595506, 269.76404494],\n",
              "        [104.76404494, 183.23595506]]))"
            ]
          },
          "metadata": {},
          "execution_count": 67
        }
      ]
    },
    {
      "cell_type": "markdown",
      "source": [
        "p < 0.05 — (H0-no association is rejected)this means the two categorical variables are correlated.\n",
        "p > 0.05 — (H0-no association failed to reject)this means the two categorical variables are not correlated."
      ],
      "metadata": {
        "id": "tDXa4OAM-cpn"
      }
    },
    {
      "cell_type": "code",
      "source": [
        "sns.barplot(x='Pclass', y='Survived', data=df, ci=None)\n",
        "tab = pd.crosstab(df['Pclass'],df['Survived'])\n",
        "tab = tab.T\n",
        "print(tab)\n",
        "st.chi2_contingency(tab)"
      ],
      "metadata": {
        "colab": {
          "base_uri": "https://localhost:8080/",
          "height": 435
        },
        "id": "RKj0amev_EuC",
        "outputId": "3c46d111-3d72-4f69-c437-2dd9f56e4840"
      },
      "execution_count": null,
      "outputs": [
        {
          "output_type": "stream",
          "name": "stdout",
          "text": [
            "Pclass      1   2    3\n",
            "Survived              \n",
            "0          64  90  270\n",
            "1         120  83   85\n"
          ]
        },
        {
          "output_type": "execute_result",
          "data": {
            "text/plain": [
              "(91.08074548791019,\n",
              " 1.6675060315554636e-20,\n",
              " 2,\n",
              " array([[109.57303371, 103.02247191, 211.40449438],\n",
              "        [ 74.42696629,  69.97752809, 143.59550562]]))"
            ]
          },
          "metadata": {},
          "execution_count": 70
        },
        {
          "output_type": "display_data",
          "data": {
            "image/png": "[encoded data removed]",
            "text/plain": [
              "<Figure size 432x288 with 1 Axes>"
            ]
          },
          "metadata": {
            "needs_background": "light"
          }
        }
      ]
    },
    {
      "cell_type": "code",
      "source": [
        "sns.barplot(x='Embarked', y='Survived', data=df, ci=None)\n",
        "tab = pd.crosstab(df['Embarked'],df['Survived'])\n",
        "tab = tab.T\n",
        "print(tab)\n",
        "st.chi2_contingency(tab)"
      ],
      "metadata": {
        "colab": {
          "base_uri": "https://localhost:8080/",
          "height": 435
        },
        "id": "WwqQllyi_mWT",
        "outputId": "9a40c447-aed2-4080-c4af-c871bd1af98c"
      },
      "execution_count": null,
      "outputs": [
        {
          "output_type": "stream",
          "name": "stdout",
          "text": [
            "Embarked   C   Q    S\n",
            "Survived             \n",
            "0         51  20  353\n",
            "1         79   8  201\n"
          ]
        },
        {
          "output_type": "execute_result",
          "data": {
            "text/plain": [
              "(27.918691003688622,\n",
              " 8.660306799267892e-07,\n",
              " 2,\n",
              " array([[ 77.41573034,  16.6741573 , 329.91011236],\n",
              "        [ 52.58426966,  11.3258427 , 224.08988764]]))"
            ]
          },
          "metadata": {},
          "execution_count": 69
        },
        {
          "output_type": "display_data",
          "data": {
            "image/png": "[encoded data removed]",
            "text/plain": [
              "<Figure size 432x288 with 1 Axes>"
            ]
          },
          "metadata": {
            "needs_background": "light"
          }
        }
      ]
    },
    {
      "cell_type": "markdown",
      "source": [
        "From the chart it seems like more people who embarked from C (Cherbourg) survived.\n",
        "C = Cherbourg; Q = Queenstown; S = Southampton\n"
      ],
      "metadata": {
        "id": "9UTs8Hzf_1Mg"
      }
    },
    {
      "cell_type": "code",
      "source": [
        "#TESTING\n",
        "\n",
        "\n",
        "from scipy import stats\n",
        "import pandas as pd\n",
        "# import the data\n",
        "df= pd.read_csv(\"/content/iris_csv.csv\")\n",
        "setosa = df[(df['class'] == 'Iris-setosa')]\n",
        "versicolor = df[(df['class'] == 'Iris-versicolor')]\n",
        "# homogeneity\n",
        "print(stats.levene(setosa['sepalwidth'], versicolor['sepalwidth']))\n",
        "# Shapiro-Wilk test for normality\n",
        "print(stats.shapiro(setosa['sepalwidth']))\n",
        "print(stats.shapiro(versicolor['sepalwidth']))\n",
        "\n",
        "#independent t-test\n",
        "print(stats.ttest_ind(setosa['sepalwidth'], versicolor['sepalwidth']))\n",
        "#If you want to use the non-parametric version, \n",
        "#just replace stats.ttest_ind with stats.wilcoxon."
      ],
      "metadata": {
        "colab": {
          "base_uri": "https://localhost:8080/"
        },
        "id": "fPdxr0spsj_7",
        "outputId": "cfe9d8af-8736-4326-c0a7-7d98e25e56b3"
      },
      "execution_count": null,
      "outputs": [
        {
          "output_type": "stream",
          "name": "stdout",
          "text": [
            "LeveneResult(statistic=0.6635459332943233, pvalue=0.4172859681296204)\n",
            "ShapiroResult(statistic=0.968691885471344, pvalue=0.20465604960918427)\n",
            "ShapiroResult(statistic=0.9741330742835999, pvalue=0.33798879384994507)\n",
            "Ttest_indResult(statistic=9.282772555558111, pvalue=4.362239016010214e-15)\n"
          ]
        }
      ]
    },
    {
      "cell_type": "code",
      "source": [
        "sys_bp=[183, 152, 178, 157, 194, 163, 144, 114, 178, 152, 118, 158, 172, 138]\n",
        "\n",
        "\n",
        "mu=165\n",
        "\n",
        "\n",
        "from scipy import stats\n",
        "\n",
        "t_value,p_value=stats.ttest_1samp(sys_bp,mu)\n",
        "\n",
        "one_tailed_p_value=float(\"{:.6f}\".format(p_value/2)) # Since alternative hypothesis is one tailed, We need to divide the p value by 2.\n",
        "\n",
        "print('Test statistic is %f'%float(\"{:.6f}\".format(t_value)))\n",
        "\n",
        "print('p-value for one tailed test is %f'%one_tailed_p_value)\n",
        "\n",
        "alpha = 0.05\n",
        "\n",
        "if one_tailed_p_value<=alpha:\n",
        "\n",
        "    print('Conclusion','n','Since p-value(=%f)'%p_value,'<','alpha(=%.2f)'%alpha,'''We reject the null hypothesis H0. \n",
        "\n",
        "So we conclude that there is no significant mean difference in systolic blood pressure. \n",
        "\n",
        "i.e., μ = 165 at %.2f level of significance'''%alpha)\n",
        "\n",
        "else:\n",
        "\n",
        "    print('Conclusion','n','Since p-value(=%f)'%one_tailed_p_value,'>','alpha(=%.2f)'%alpha,'We do not reject the null hypothesis H0.')"
      ],
      "metadata": {
        "colab": {
          "base_uri": "https://localhost:8080/"
        },
        "id": "R-2lOIrwY4UR",
        "outputId": "57df0bd9-6d94-4f2e-dafd-0009bd37349b"
      },
      "execution_count": null,
      "outputs": [
        {
          "output_type": "stream",
          "name": "stdout",
          "text": [
            "Test statistic is -1.243183\n",
            "p-value for one tailed test is 0.117877\n",
            "Conclusion n Since p-value(=0.117877) > alpha(=0.05) We do not reject the null hypothesis H0.\n"
          ]
        }
      ]
    },
    {
      "cell_type": "code",
      "source": [
        "Ammonium_chloride=[13.4,10.9,11.2,11.8,14,15.3,14.2,12.6,17,16.2,16.5,15.7]\n",
        "Urea=[12,11.7,10.7,11.2,14.8,14.4,13.9,13.7,16.9,16,15.6,16]\n",
        "from scipy import stats\n",
        "\n",
        "t_value,p_value=stats.ttest_ind(Ammonium_chloride,Urea)\n",
        "\n",
        "print('Test statistic is %f'%float(\"{:.6f}\".format(t_value)))\n",
        "\n",
        "print('p-value for two tailed test is %f'%p_value)\n",
        "\n",
        "alpha = 0.05\n",
        "\n",
        "if p_value<=alpha:\n",
        "\n",
        "    print('Conclusion','n','Since p-value(=%f)'%p_value,'<','alpha(=%.2f)'%alpha,'''We reject the null hypothesis H0. So we conclude that the \n",
        "\n",
        "effect of ammonium chloride and urea on grain yield of paddy are not equal i.e., μ1 = μ2 at %.2f level of significance.'''%alpha)\n",
        "\n",
        "else:\n",
        "\n",
        "    print('Conclusion','n','Since p-value(=%f)'%p_value,'>','alpha(=%.2f)'%alpha,'We do not reject the null hypothesis H0')"
      ],
      "metadata": {
        "colab": {
          "base_uri": "https://localhost:8080/"
        },
        "id": "pAAoezOebNNP",
        "outputId": "18b65563-1c32-4b78-c998-324e723e69a9"
      },
      "execution_count": null,
      "outputs": [
        {
          "output_type": "stream",
          "name": "stdout",
          "text": [
            "Test statistic is 0.184650\n",
            "p-value for two tailed test is 0.855195\n",
            "Conclusion n Since p-value(=0.855195) > alpha(=0.05) We do not reject the null hypothesis H0\n"
          ]
        }
      ]
    },
    {
      "cell_type": "code",
      "source": [
        "alpha = 0.05\n",
        "first_test =[23, 20, 19, 21, 18, 20, 18, 17, 23, 16, 19]\n",
        "second_test=[24, 19, 22, 18, 20, 22, 20, 20, 23, 20, 18]\n",
        "from scipy import stats\n",
        "\n",
        "t_value,p_value=stats.ttest_rel(first_test,second_test)\n",
        "\n",
        "one_tailed_p_value=float(\"{:.6f}\".format(p_value/2)) \n",
        "\n",
        "print('Test statistic is %f'%float(\"{:.6f}\".format(t_value)))\n",
        "\n",
        "print('p-value for one_tailed_test is %f'%one_tailed_p_value)\n",
        "\n",
        "alpha = 0.05\n",
        "\n",
        "if one_tailed_p_value<=alpha:\n",
        "\n",
        "    print('Conclusion','n','Since p-value(=%f)'%one_tailed_p_value,'<','alpha(=%.2f)'%alpha,'''We reject the null hypothesis H0. \n",
        "\n",
        "So we conclude that the students have benefited by the tuition class. i.e., d = 0 at %.2f level of significance.'''%alpha)\n",
        "\n",
        "else:\n",
        "\n",
        "    print('Conclusion','n','Since p-value(=%f)'%one_tailed_p_value,'>','alpha(=%.2f)'%alpha,'''We do not reject the null hypothesis H0. \n",
        "\n",
        "So we conclude that the students have not benefited by the tuition class. i.e., d = 0 at %.2f level of significance.'''%alpha)"
      ],
      "metadata": {
        "colab": {
          "base_uri": "https://localhost:8080/"
        },
        "id": "v7xqvEnNb06J",
        "outputId": "9a98aa99-1fd8-4168-fa86-db8cb18d12a0"
      },
      "execution_count": null,
      "outputs": [
        {
          "output_type": "stream",
          "name": "stdout",
          "text": [
            "Test statistic is -1.707331\n",
            "p-value for one_tailed_test is 0.059282\n",
            "Conclusion n Since p-value(=0.059282) > alpha(=0.05) We do not reject the null hypothesis H0. \n",
            "\n",
            "So we conclude that the students have not benefited by the tuition class. i.e., d = 0 at 0.05 level of significance.\n"
          ]
        }
      ]
    },
    {
      "cell_type": "code",
      "source": [
        "!pip install pingouin"
      ],
      "metadata": {
        "id": "D1GLIJ6kwSIs"
      },
      "execution_count": null,
      "outputs": []
    }
  ]
}